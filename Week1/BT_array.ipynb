{
 "cells": [
  {
   "cell_type": "markdown",
   "id": "c7ca5ab4",
   "metadata": {},
   "source": [
    "# BT1: \n",
    "Sinh 1 mảng 1 chiều ngẫu nhiên n phần tử số nguyên, tìm giá trị lớn nhất, nhỏ nhất trung bình "
   ]
  },
  {
   "cell_type": "code",
   "execution_count": 1,
   "id": "325299f5",
   "metadata": {},
   "outputs": [
    {
     "name": "stdout",
     "output_type": "stream",
     "text": [
      "Mảng ngẫu nhiên: [19, 56, 96, 41, 65, 52, 79, 48, 1, 23]\n"
     ]
    }
   ],
   "source": [
    "import random\n",
    "\n",
    "def create_random_list(n, min_val, max_val):\n",
    "  \"\"\"Sinh một list chứa n số nguyên ngẫu nhiên từ min_val đến max_val.\"\"\"\n",
    "  arr = []\n",
    "  for _ in range(n):\n",
    "    arr.append(random.randint(min_val, max_val))\n",
    "  return arr\n",
    "\n",
    "# Ví dụ: Tạo mảng 10 phần tử, giá trị từ 1 đến 100\n",
    "my_array = create_random_list(10, 1, 100)\n",
    "print(f\"Mảng ngẫu nhiên: {my_array}\")"
   ]
  },
  {
   "cell_type": "code",
   "execution_count": 3,
   "id": "178fe985",
   "metadata": {},
   "outputs": [
    {
     "name": "stdout",
     "output_type": "stream",
     "text": [
      "Giá trị nhỏ nhất: 1\n",
      "Giá trị lớn nhất: 96\n"
     ]
    }
   ],
   "source": [
    "# Cách 1: Dùng hàm sẵn (khuyên dùng)\n",
    "min_value = min(my_array)\n",
    "max_value = max(my_array)\n",
    "\n",
    "# Cách 2: Tự viết thuật toán\n",
    "def find_min_max(arr):\n",
    "  if not arr: # Xử lý trường hợp mảng rỗng\n",
    "    return None, None\n",
    "  \n",
    "  current_min = arr[0]\n",
    "  current_max = arr[0]\n",
    "  for num in arr[1:]:\n",
    "    if num < current_min:\n",
    "      current_min = num\n",
    "    if num > current_max:\n",
    "      current_max = num\n",
    "  return current_min, current_max\n",
    "\n",
    "# min_value, max_value = find_min_max(my_array)\n",
    "\n",
    "print(f\"Giá trị nhỏ nhất: {min_value}\")\n",
    "print(f\"Giá trị lớn nhất: {max_value}\")"
   ]
  },
  {
   "cell_type": "code",
   "execution_count": 4,
   "id": "2de9e9a0",
   "metadata": {},
   "outputs": [
    {
     "name": "stdout",
     "output_type": "stream",
     "text": [
      "Giá trị trung bình: 48.0\n"
     ]
    }
   ],
   "source": [
    "def calculate_average(arr):\n",
    "  if not arr:\n",
    "    return 0\n",
    "  return sum(arr) / len(arr)\n",
    "\n",
    "average_value = calculate_average(my_array)\n",
    "print(f\"Giá trị trung bình: {average_value}\")"
   ]
  },
  {
   "cell_type": "markdown",
   "id": "e0fceb4c",
   "metadata": {},
   "source": [
    "# Bài tập 2: \n",
    "Mảng 1 chiều, đầu vào là 1 đoạn văn, hãy đếm và in ra tần số các tên riêng trong đoạn văn"
   ]
  },
  {
   "cell_type": "markdown",
   "id": "58b71e54",
   "metadata": {},
   "source": [
    "1. Tách đoạn văn thành các câu: Dựa vào các dấu chấm ., chấm hỏi ?, chấm than !.\n",
    "\n",
    "2. Tách mỗi câu thành các từ: Dựa vào khoảng trắng.\n",
    "\n",
    "3. Làm sạch từ: Loại bỏ các dấu câu không cần thiết dính vào từ (ví dụ: \"Peter,\" -> \"Peter\").\n",
    "\n",
    "4. Duyệt qua các từ trong mỗi câu:\n",
    "    - Bỏ qua từ đầu tiên của mỗi câu.\n",
    "    - Với các từ còn lại, kiểm tra xem nó có được viết hoa chữ cái đầu không. Nếu có, đó là một tên riêng.\n",
    "\n",
    "5. Đếm tần số:\n",
    "    - Sử dụng một dictionary để lưu trữ.\n",
    "    - Key là tên riêng tìm được, value là số lần xuất hiện.\n",
    "    - Mỗi khi tìm thấy một tên riêng, ta sẽ tăng biến đếm của nó trong dictionary."
   ]
  },
  {
   "cell_type": "code",
   "execution_count": 7,
   "id": "393a5efc",
   "metadata": {},
   "outputs": [
    {
     "name": "stdout",
     "output_type": "stream",
     "text": [
      "Tần số các tên riêng tìm được:\n",
      "- New: 3 lần\n",
      "- York: 3 lần\n",
      "- Statue: 1 lần\n",
      "- Liberty: 1 lần\n",
      "- Mary: 1 lần\n",
      "- Python: 1 lần\n"
     ]
    }
   ],
   "source": [
    "import re\n",
    "\n",
    "def count_proper_nouns(text):\n",
    "    \"\"\"\n",
    "    Đếm và in ra tần số các tên riêng trong một đoạn văn.\n",
    "    Một từ được coi là tên riêng nếu nó viết hoa và không đứng đầu câu.\n",
    "    \"\"\"\n",
    "    # Sử dụng dictionary để lưu trữ tần số: {tên: số_lần_xuất_hiện}\n",
    "    frequencies = {}\n",
    "\n",
    "    # Bước 1: Tách văn bản thành các câu. re.split hiệu quả hơn text.split('.')\n",
    "    # vì nó xử lý được nhiều loại dấu câu.\n",
    "    sentences = re.split(r'[.?!]', text)\n",
    "\n",
    "    # Bước 2 & 4: Duyệt qua từng câu và xử lý các từ\n",
    "    for sentence in sentences:\n",
    "        # Tách câu thành các từ dựa trên khoảng trắng\n",
    "        words = sentence.strip().split()\n",
    "        \n",
    "        # Bỏ qua các câu rỗng (có thể xảy ra nếu có nhiều dấu câu liền nhau)\n",
    "        if not words:\n",
    "            continue\n",
    "\n",
    "        # Chỉ xét các từ từ vị trí thứ hai trở đi (bỏ qua từ đầu câu)\n",
    "        for word in words[1:]:\n",
    "            # Bước 3: Làm sạch từ khỏi các dấu câu phổ biến\n",
    "            clean_word = word.strip('.,;:\"()[]{}')\n",
    "            \n",
    "            # Kiểm tra điều kiện: từ không rỗng và chữ cái đầu được viết hoa\n",
    "            if clean_word and clean_word[0].isupper():\n",
    "                # Bước 5: Cập nhật tần số trong dictionary\n",
    "                frequencies[clean_word] = frequencies.get(clean_word, 0) + 1\n",
    "    \n",
    "    return frequencies\n",
    "\n",
    "# --- Ví dụ sử dụng ---\n",
    "doan_van = \"\"\"\n",
    "Peter is a student in New York. He loves visiting the Statue of Liberty with his friend, Mary. \n",
    "Mary also lives in New York. They often talk about Python programming. What a city New York is!\n",
    "\"\"\"\n",
    "\n",
    "# Gọi hàm và lấy kết quả\n",
    "tan_so_ten_rieng = count_proper_nouns(doan_van)\n",
    "\n",
    "# In kết quả\n",
    "print(\"Tần số các tên riêng tìm được:\")\n",
    "if not tan_so_ten_rieng:\n",
    "    print(\"Không tìm thấy tên riêng nào.\")\n",
    "else:\n",
    "    for name, count in tan_so_ten_rieng.items():\n",
    "        print(f\"- {name}: {count} lần\")"
   ]
  },
  {
   "cell_type": "markdown",
   "id": "1f800ac1",
   "metadata": {},
   "source": [
    "## hạn chế của giải pháp:\n",
    "\n",
    "Bỏ qua từ đầu tiên của mỗi câu. Điều này có nghĩa là nếu câu là \"Peter went to the store.\", từ \"Peter\" sẽ bị bỏ lỡ.\n",
    "\n",
    "Tên ghép: Nó không nhận diện được \"New York\" hay \"Statue of Liberty\" là một cụm từ duy nhất. Thay vào đó, nó đếm \"New\", \"York\", \"Statue\", \"of\", \"Liberty\" là các tên riêng lẻ.\n",
    "\n",
    "Giải quyết hạn chế: Để giải quyết các vấn đề trên, cần các kỹ thuật xử lý ngôn ngữ tự nhiên (NLP) phức tạp hơn. "
   ]
  },
  {
   "cell_type": "markdown",
   "id": "ef24e9fd",
   "metadata": {},
   "source": [
    "# Bài tập 3: "
   ]
  },
  {
   "cell_type": "markdown",
   "id": "12c89ba4",
   "metadata": {},
   "source": [
    "Sinh mảng 2 chiều nhị phân chứa bit 0,1. Tìm hàng hoặc cột chứa ít số 1 nhất"
   ]
  },
  {
   "cell_type": "code",
   "execution_count": 5,
   "id": "ddce78a5",
   "metadata": {},
   "outputs": [
    {
     "name": "stdout",
     "output_type": "stream",
     "text": [
      "Mảng 2 chiều ngẫu nhiên:\n",
      "[1, 1, 1, 0, 0]\n",
      "[0, 1, 1, 0, 1]\n",
      "[0, 1, 1, 0, 1]\n",
      "[0, 1, 1, 0, 1]\n",
      "[0, 0, 0, 0, 1]\n",
      "\n",
      "--- Kết quả ---\n",
      "Cột số 3 chứa ít số 1 nhất, với 0 số 1.\n"
     ]
    }
   ],
   "source": [
    "import random\n",
    "\n",
    "def create_binary_grid(rows, cols):\n",
    "    \"\"\"Sinh một mảng 2 chiều (list của list) chứa các bit 0 hoặc 1 ngẫu nhiên.\"\"\"\n",
    "    # Sử dụng list comprehension để tạo mảng một cách ngắn gọn và hiệu quả.\n",
    "    # Vòng lặp ngoài tạo ra các hàng.\n",
    "    # Vòng lặp trong tạo ra các phần tử (0 hoặc 1) cho mỗi hàng.\n",
    "    return [[random.randint(0, 1) for _ in range(cols)] for _ in range(rows)]\n",
    "\n",
    "def find_min_row_or_col(grid):\n",
    "    \"\"\"\n",
    "    Tìm hàng hoặc cột chứa ít số 1 nhất trong một mảng 2 chiều.\n",
    "    Trả về một tuple: (loại, chỉ_số, số_lượng_1)\n",
    "    Ví dụ: ('hàng', 2, 1)\n",
    "    \"\"\"\n",
    "    if not grid or not grid[0]:\n",
    "        return None, -1, 0\n",
    "\n",
    "    rows = len(grid)\n",
    "    cols = len(grid[0])\n",
    "\n",
    "    # --- Bước 2: Tìm hàng có ít số 1 nhất ---\n",
    "    min_row_count = float('inf')  # Khởi tạo với số vô cùng lớn\n",
    "    min_row_index = -1\n",
    "    \n",
    "    for i in range(rows):\n",
    "        # Mẹo: sum() của một list chứa 0 và 1 chính là số lượng số 1.\n",
    "        current_row_count = sum(grid[i])\n",
    "        if current_row_count <= min_row_count:\n",
    "            min_row_count = current_row_count\n",
    "            min_row_index = i\n",
    "\n",
    "    # --- Bước 3: Tìm cột có ít số 1 nhất ---\n",
    "    min_col_count = float('inf')\n",
    "    min_col_index = -1\n",
    "\n",
    "    for j in range(cols):\n",
    "        # Đếm số 1 trong cột j\n",
    "        current_col_count = 0\n",
    "        for i in range(rows):\n",
    "            if grid[i][j] == 1:\n",
    "                current_col_count += 1\n",
    "        \n",
    "        if current_col_count <= min_col_count:\n",
    "            min_col_count = current_col_count\n",
    "            min_col_index = j\n",
    "\n",
    "    # --- Bước 4: So sánh và kết luận ---\n",
    "    if min_row_count <= min_col_count:\n",
    "        return 'hàng', min_row_index, min_row_count\n",
    "    else:\n",
    "        return 'cột', min_col_index, min_col_count\n",
    "\n",
    "# --- Ví dụ sử dụng ---\n",
    "# Sinh một mảng 5x5\n",
    "my_grid = create_binary_grid(5, 5)\n",
    "\n",
    "print(\"Mảng 2 chiều ngẫu nhiên:\")\n",
    "for row in my_grid:\n",
    "    print(row)\n",
    "\n",
    "# Tìm và in kết quả\n",
    "result_type, result_index, result_count = find_min_row_or_col(my_grid)\n",
    "\n",
    "print(\"\\n--- Kết quả ---\")\n",
    "print(f\"{result_type.capitalize()} số {result_index} chứa ít số 1 nhất, với {result_count} số 1.\")"
   ]
  }
 ],
 "metadata": {
  "kernelspec": {
   "display_name": "Python 3 (ipykernel)",
   "language": "python",
   "name": "python3"
  },
  "language_info": {
   "codemirror_mode": {
    "name": "ipython",
    "version": 3
   },
   "file_extension": ".py",
   "mimetype": "text/x-python",
   "name": "python",
   "nbconvert_exporter": "python",
   "pygments_lexer": "ipython3",
   "version": "3.12.2"
  }
 },
 "nbformat": 4,
 "nbformat_minor": 5
}
