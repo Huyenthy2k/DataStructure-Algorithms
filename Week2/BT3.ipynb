{
 "cells": [
  {
   "cell_type": "markdown",
   "id": "03205537",
   "metadata": {},
   "source": [
    "# Bài 3\n",
    "Cho 1 đoạn văn dài, hãy xây dựng chương trình tìm và in ra vị trí xuất hiện của 1 từ trong đoạn văn đó. Thông tin sẽ gồm từ đó thuộc câu thứ bao nhiêu, dòng thứ bao nhiêu của đoạn văn. Nếu từ xuất hiện nhiều lần thì in ra thông tin tất cả các vị trí mà nó xuất hiện."
   ]
  },
  {
   "cell_type": "markdown",
   "id": "af83d58c",
   "metadata": {},
   "source": [
    "### Phân rã văn bản theo cấu trúc\n",
    "1. Tách thành Dòng (Lines)\n",
    "2. Tách thành Câu (Sentences)\n",
    "3. Tách thành Từ (Words)\n",
    "### Logic tìm kiếm và theo dõi vị trí\n",
    "Duyệt qua từng DÒNG trong danh sách các dòng:\n",
    "    Tăng số thứ tự dòng.\n",
    "    Tách dòng hiện tại thành các CÂU.\n",
    "    Duyệt qua từng CÂU trong danh sách các câu vừa tách:\n",
    "        Tăng số thứ tự câu.\n",
    "        Làm sạch câu (chuyển chữ thường, bỏ dấu câu).\n",
    "        Tách câu thành các TỪ.\n",
    "        Duyệt qua từng TỪ trong danh sách các từ:\n",
    "            Nếu TỪ này khớp với TỪ CẦN TÌM:\n",
    "                Lưu lại (số thứ tự câu, số thứ tự dòng) hiện tại.\n",
    "### Lưu trữ kết quả\n",
    "Mỗi khi tìm thấy một vị trí, thêm một tuple (so_thu_tu_cau, so_thu_tu_dong) vào danh sách kết quả."
   ]
  },
  {
   "cell_type": "code",
   "execution_count": 2,
   "id": "1b07836f",
   "metadata": {},
   "outputs": [
    {
     "name": "stdout",
     "output_type": "stream",
     "text": [
      "Từ 'Python' được tìm thấy ở các vị trí sau:\n",
      "- Câu thứ 1, Dòng thứ 2\n",
      "- Câu thứ 5, Dòng thứ 4\n",
      "- Câu thứ 6, Dòng thứ 5\n"
     ]
    }
   ],
   "source": [
    "import re\n",
    "\n",
    "def find_word_locations(text, target_word):\n",
    "    \"\"\"\n",
    "    Finds and returns all locations (sentence, line) of a target word in a text.\n",
    "\n",
    "    Args:\n",
    "        text (str): The input text document.\n",
    "        target_word (str): The word to search for.\n",
    "\n",
    "    Returns:\n",
    "        list: A list of (sentence_number, line_number) tuples for each occurrence.\n",
    "    \"\"\"\n",
    "    # Xử lý yêu cầu không phân biệt hoa/thường, chuẩn bị các biến\n",
    "    target_word_lower = target_word.lower()\n",
    "    results = []\n",
    "    \n",
    "    # Bước 1: Tách văn bản thành một danh sách các dòng\n",
    "    lines = text.splitlines()\n",
    "    \n",
    "    global_sentence_counter = 0 # Biến đếm câu cho toàn bộ văn bản\n",
    "\n",
    "    # Duyệt qua từng dòng, lấy cả chỉ số (số dòng) và nội dung dòng\n",
    "    # enumerate(..., 1) để bắt đầu đếm dòng từ 1\n",
    "    for line_number, line in enumerate(lines, 1):\n",
    "        \n",
    "        # Tách mỗi dòng thành các câu. Dùng re.split để xử lý nhiều dấu câu (.?!)\n",
    "        # Lọc ra các chuỗi rỗng có thể được tạo ra sau khi split\n",
    "        sentences_in_line = [sentence for sentence in re.split(r'[.?!]', line) if sentence]\n",
    "\n",
    "        # Duyệt qua các câu vừa tách được trong dòng hiện tại\n",
    "        for sentence in sentences_in_line:\n",
    "            global_sentence_counter += 1\n",
    "            \n",
    "            # Làm sạch câu: loại bỏ các ký tự đặc biệt và chuyển về chữ thường\n",
    "            clean_sentence = re.sub(r'[^\\w\\s]', '', sentence).lower()\n",
    "            \n",
    "            # Tách câu thành một danh sách các từ\n",
    "            words = clean_sentence.split()\n",
    "            \n",
    "            # Duyệt qua từng từ để kiểm tra\n",
    "            # Dùng vòng lặp for để có thể đếm nhiều lần xuất hiện trong cùng một câu\n",
    "            for word in words:\n",
    "                if word == target_word_lower:\n",
    "                    # Nếu tìm thấy, thêm vị trí (câu, dòng) vào danh sách kết quả\n",
    "                    location = (global_sentence_counter, line_number)\n",
    "                    # Chỉ thêm nếu vị trí này chưa được thêm trước đó (để mỗi cặp câu-dòng là duy nhất)\n",
    "                    if location not in results:\n",
    "                        results.append(location)\n",
    "\n",
    "    return results\n",
    "\n",
    "# --- VÍ DỤ MINH HỌA ---\n",
    "\n",
    "# Lấy một đoạn văn bản mẫu. \n",
    "# Chú ý có nhiều câu trên một dòng và từ \"Python\" xuất hiện nhiều lần.\n",
    "sample_text = \"\"\"\n",
    "Python is an interpreted, high-level and general-purpose programming language. \n",
    "Python's design philosophy emphasizes code readability with its notable use of significant whitespace.\n",
    "Its language constructs and object-oriented approach aim to help programmers write clear, logical code for small and large-scale projects. What is Python?\n",
    "Python is dynamically typed and garbage-collected. It supports multiple programming paradigms, including structured, object-oriented, and functional programming.\n",
    "\"\"\"\n",
    "\n",
    "word_to_find = \"Python\"\n",
    "\n",
    "# Gọi hàm tìm kiếm\n",
    "found_locations = find_word_locations(sample_text, word_to_find)\n",
    "\n",
    "# In kết quả ra màn hình\n",
    "if found_locations:\n",
    "    print(f\"Từ '{word_to_find}' được tìm thấy ở các vị trí sau:\")\n",
    "    for location in found_locations:\n",
    "        # location[0] là số câu, location[1] là số dòng\n",
    "        print(f\"- Câu thứ {location[0]}, Dòng thứ {location[1]}\")\n",
    "else:\n",
    "    print(f\"Không tìm thấy từ '{word_to_find}' trong văn bản.\")"
   ]
  }
 ],
 "metadata": {
  "kernelspec": {
   "display_name": "venv",
   "language": "python",
   "name": "python3"
  },
  "language_info": {
   "codemirror_mode": {
    "name": "ipython",
    "version": 3
   },
   "file_extension": ".py",
   "mimetype": "text/x-python",
   "name": "python",
   "nbconvert_exporter": "python",
   "pygments_lexer": "ipython3",
   "version": "3.12.2"
  }
 },
 "nbformat": 4,
 "nbformat_minor": 5
}
