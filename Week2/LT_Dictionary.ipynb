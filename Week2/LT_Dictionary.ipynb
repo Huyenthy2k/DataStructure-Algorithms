{
 "cells": [
  {
   "cell_type": "markdown",
   "id": "afb2db7a",
   "metadata": {},
   "source": [
    "# Dictionary"
   ]
  },
  {
   "cell_type": "markdown",
   "id": "a0726d5a",
   "metadata": {},
   "source": [
    "a. Bản chất\n",
    "Dictionary (lớp dict) là một cấu trúc ánh xạ (mapping) từ một tập hợp các khóa (keys) duy nhất đến các giá trị (values) tương ứng. Nó còn được gọi là mảng kết hợp (associative array).\n",
    "\n",
    "b. Đặc điểm chính\n",
    "- Không có thứ tự (Unordered): Tương tự như Set, các cặp key-value không được lưu theo một thứ tự cụ thể (Lưu ý: từ Python 3.7, dict đã duy trì thứ tự chèn, nhưng đây là đặc điểm của việc triển khai, không phải là bản chất của ADT map).\n",
    "\n",
    "- Có thể thay đổi (Mutable): Bạn có thể thêm, bớt, hoặc thay đổi các cặp key-value.\n",
    "\n",
    "- Truy cập bằng khóa (Keyed Access): Giá trị được truy cập thông qua khóa của nó, ví dụ my_dict['key'].\n",
    "\n",
    "- Khóa phải là duy nhất và bất biến: Tương tự như phần tử trong Set, khóa của Dictionary phải là duy nhất và thuộc kiểu bất biến (immutable) như số, chuỗi, tuple. Giá trị có thể là bất cứ thứ gì.\n",
    "\n",
    "c. Cấu trúc bên trong và Hiệu năng\n",
    "\n",
    "Bảng băm (Hash Table): Tương tự như Set, dict được triển khai bằng bảng băm. Khóa được \"băm\" để xác định vị trí lưu trữ cặp key-value. Điều này làm cho việc truy cập, thêm, xóa một cặp key-value cực kỳ nhanh, với hiệu năng trung bình là O(1)."
   ]
  },
  {
   "cell_type": "markdown",
   "id": "ad834791",
   "metadata": {},
   "source": [
    "## Các thao tác với Dictionary\n",
    "Dictionary lưu trữ các cặp key-value, với các khóa là duy nhất"
   ]
  },
  {
   "cell_type": "markdown",
   "id": "bb10766a",
   "metadata": {},
   "source": [
    "a. Truy cập, Thêm và Sửa đổi"
   ]
  },
  {
   "cell_type": "code",
   "execution_count": null,
   "id": "b94ed7a0",
   "metadata": {},
   "outputs": [],
   "source": [
    "# M[k]: Truy cập giá trị được liên kết với khóa k. Gây ra lỗi KeyError nếu khóa không tồn tại\n",
    "my_dict = {'name': 'Alice', 'age': 25}\n",
    "print(my_dict['age']) # Output: 25"
   ]
  },
  {
   "cell_type": "code",
   "execution_count": 1,
   "id": "51cb804b",
   "metadata": {},
   "outputs": [
    {
     "name": "stdout",
     "output_type": "stream",
     "text": [
      "{'name': 'Alicia', 'age': 26}\n"
     ]
    }
   ],
   "source": [
    "#M[k] = v: Gán giá trị v cho khóa k. Nếu khóa đã tồn tại, giá trị cũ sẽ bị ghi đè. \n",
    "# Nếu không, một cặp key-value mới sẽ được tạo\n",
    "my_dict = {'name': 'Alice'}\n",
    "my_dict['age'] = 26       # Thêm cặp mới\n",
    "my_dict['name'] = 'Alicia' # Cập nhật giá trị\n",
    "print(my_dict) # Output: {'name': 'Alicia', 'age': 26}"
   ]
  },
  {
   "cell_type": "code",
   "execution_count": null,
   "id": "73216b4d",
   "metadata": {},
   "outputs": [
    {
     "name": "stdout",
     "output_type": "stream",
     "text": [
      "None\n",
      "30\n"
     ]
    },
    {
     "data": {
      "text/plain": [
       "dict_keys(['name'])"
      ]
     },
     "execution_count": 3,
     "metadata": {},
     "output_type": "execute_result"
    }
   ],
   "source": [
    "# M.get(k, default=None): Lấy giá trị của khóa k một cách an toàn. \n",
    "# Nếu k không tồn tại, nó trả về default (mặc định là None) thay vì gây lỗi.\n",
    "my_dict = {'name': 'Alice'}\n",
    "print(my_dict.get('age'))       # Output: None\n",
    "print(my_dict.get('age', 30)) # Output: 30, không thêm age: 30 vào my_dict\n",
    "my_dict.keys()"
   ]
  },
  {
   "cell_type": "code",
   "execution_count": 4,
   "id": "3cef7ea3",
   "metadata": {},
   "outputs": [
    {
     "data": {
      "text/plain": [
       "dict_values(['Alice', 25])"
      ]
     },
     "execution_count": 4,
     "metadata": {},
     "output_type": "execute_result"
    }
   ],
   "source": [
    "#setdefault(k, default=None): Nếu khóa k không tồn tại, thêm nó vào dict với giá trị default. \n",
    "#Nếu tồn tại, không làm gì cả.\n",
    "my_dict = {'name': 'Alice'}\n",
    "my_dict.setdefault('age', 25) # Output: 25\n",
    "my_dict.setdefault('age', 30) # Output: 25, không thêm age: 30 vào my_dict\n",
    "my_dict.values()\n"
   ]
  },
  {
   "cell_type": "markdown",
   "id": "f6cce6a1",
   "metadata": {},
   "source": [
    "b. Xoá phần tử"
   ]
  },
  {
   "cell_type": "code",
   "execution_count": 5,
   "id": "f92039f7",
   "metadata": {},
   "outputs": [
    {
     "name": "stdout",
     "output_type": "stream",
     "text": [
      "{'name': 'Alice'}\n"
     ]
    }
   ],
   "source": [
    "#del M[k]: Xóa cặp key-value với khóa k. Gây ra lỗi KeyError nếu không tìm thấy k\n",
    "my_dict = {'name': 'Alice', 'age': 26}\n",
    "del my_dict['age']\n",
    "print(my_dict) # Output: {'name': 'Alice'}"
   ]
  },
  {
   "cell_type": "code",
   "execution_count": null,
   "id": "e59f7b02",
   "metadata": {},
   "outputs": [
    {
     "name": "stdout",
     "output_type": "stream",
     "text": [
      "26\n",
      "{'name': 'Alice'}\n"
     ]
    }
   ],
   "source": [
    "#M.pop(k, default=None): Xóa cặp key-value với khóa k và trả về giá trị của nó.\n",
    "my_dict = {'name': 'Alice', 'age': 26}\n",
    "age = my_dict.pop('age')\n",
    "print(age) # Output: 26\n",
    "print(my_dict) # Output: {'name': 'Alice'}"
   ]
  },
  {
   "cell_type": "code",
   "execution_count": 7,
   "id": "d5dd378e",
   "metadata": {},
   "outputs": [
    {
     "name": "stdout",
     "output_type": "stream",
     "text": [
      "('age', 26)\n",
      "{'name': 'Alice'}\n"
     ]
    }
   ],
   "source": [
    "#M.popitem(): Xóa và trả về cặp key-value cuối cùng trong dict.\n",
    "my_dict = {'name': 'Alice', 'age': 26}\n",
    "last_item = my_dict.popitem()\n",
    "print(last_item) # Output: ('age', 26)\n",
    "print(my_dict) # Output: {'name': 'Alice'}"
   ]
  },
  {
   "cell_type": "code",
   "execution_count": null,
   "id": "cd871a08",
   "metadata": {},
   "outputs": [],
   "source": [
    "#M.clear(): Xóa tất cả các cặp key-value trong dict.\n",
    "my_dict = {'name': 'Alice', 'age': 26}\n",
    "my_dict.clear()\n",
    "print(my_dict) # Output: {}"
   ]
  },
  {
   "cell_type": "markdown",
   "id": "e7166bfd",
   "metadata": {},
   "source": [
    "c. Duyệt và Các View\n",
    "M.keys(): Trả về một \"view\" của tất cả các khóa.\n",
    "\n",
    "M.values(): Trả về một \"view\" của tất cả các giá trị.\n",
    "\n",
    "M.items(): Trả về một \"view\" của tất cả các cặp (key, value)"
   ]
  },
  {
   "cell_type": "code",
   "execution_count": 10,
   "id": "d54d5fef",
   "metadata": {},
   "outputs": [
    {
     "name": "stdout",
     "output_type": "stream",
     "text": [
      "name\n",
      "age\n",
      "Alice\n",
      "26\n",
      "name: Alice\n",
      "age: 26\n"
     ]
    }
   ],
   "source": [
    "my_dict = {'name': 'Alice', 'age': 26}\n",
    "\n",
    "# Duyệt qua các khóa (mặc định)\n",
    "for key in my_dict:\n",
    "    print(key)  # Output: name, age\n",
    "\n",
    "#Duyệt qua các giá trị\n",
    "for value in my_dict.values():\n",
    "    print(value) # Output: Alice, 26\n",
    "\n",
    "# Duyệt qua các cặp key-value\n",
    "for key, value in my_dict.items():\n",
    "    print(f\"{key}: {value}\") # Output: name: Alice, age: 26\n"
   ]
  }
 ],
 "metadata": {
  "kernelspec": {
   "display_name": "venv",
   "language": "python",
   "name": "python3"
  },
  "language_info": {
   "codemirror_mode": {
    "name": "ipython",
    "version": 3
   },
   "file_extension": ".py",
   "mimetype": "text/x-python",
   "name": "python",
   "nbconvert_exporter": "python",
   "pygments_lexer": "ipython3",
   "version": "3.12.2"
  }
 },
 "nbformat": 4,
 "nbformat_minor": 5
}
