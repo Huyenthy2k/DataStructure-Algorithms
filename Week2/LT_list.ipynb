{
 "cells": [
  {
   "cell_type": "markdown",
   "id": "9cb7e593",
   "metadata": {},
   "source": [
    "Các kiểu Tuần tự (Sequence Types): List và Tuple. Đặc điểm cốt lõi của nhóm này là các phần tử được lưu trữ theo một thứ tự cụ thể và có thể được truy cập bằng chỉ số (index) là số nguyên.\n",
    "\n",
    "Các kiểu không theo thứ tự (Unordered Types): Set và Dictionary. Đặc điểm cốt lõi của nhóm này là các phần tử không có thứ tự cố hữu. Việc truy cập chúng không dựa vào chỉ số vị trí, mà dựa trên chính giá trị của phần tử (với Set) hoặc một khóa duy nhất (với Dictionary). Cả hai đều được tối ưu hóa dựa trên một cấu trúc nền tảng gọi là bảng băm (hash table)."
   ]
  },
  {
   "cell_type": "markdown",
   "id": "6cfa5513",
   "metadata": {},
   "source": [
    "# List \n",
    "a. Bản chất\n",
    "List là một chuỗi các đối tượng có thể thay đổi được (mutable sequence of objects). Đây là cấu trúc dữ liệu đa dụng và được sử dụng nhiều nhất trong Python.\n",
    "\n",
    "b. Đặc điểm chính\n",
    "- Có thứ tự (Ordered): Các phần tử duy trì một vị trí cụ thể. Thứ tự bạn đưa phần tử vào sẽ được giữ nguyên.\n",
    "- Có thể thay đổi (Mutable): Bạn có thể thêm, bớt, hoặc thay đổi các phần tử sau khi list đã được tạo.\n",
    "- Truy cập bằng chỉ số (Indexed): Các phần tử được truy cập bằng chỉ số bắt đầu từ 0 (list[0], list[1], ...).\n",
    "- Cho phép trùng lặp: Một list có thể chứa các phần tử giống hệt nhau.\n",
    "\n",
    "c. Cấu trúc bên trong và Hiệu năng\n",
    "- Cấu trúc tham chiếu (Referential Structure): Một list thực chất không lưu trữ trực tiếp các đối tượng, mà nó lưu một chuỗi các tham chiếu (địa chỉ bộ nhớ) đến các đối tượng đó. Điều này cho phép một list chứa các đối tượng thuộc nhiều kiểu dữ liệu khác nhau.\n",
    "\n",
    "- Mảng động (Dynamic Array): Bên dưới, list được triển khai bằng một mảng động. Nó sẽ tự động thay đổi kích thước khi cần thiết (ví dụ khi append một phần tử vào list đã đầy), điều này giúp nó linh hoạt nhưng đôi khi có thể gây ra chi phí về hiệu năng khi phải cấp phát lại bộ nhớ và sao chép dữ liệu"
   ]
  },
  {
   "cell_type": "code",
   "execution_count": 14,
   "id": "bfa25440",
   "metadata": {},
   "outputs": [
    {
     "name": "stdout",
     "output_type": "stream",
     "text": [
      "[1, 2, 3, 4, 5]\n",
      "[1, 2, 3, 4, 5]\n",
      "[1, 2, 3, 4, 5, 6, 7]\n"
     ]
    }
   ],
   "source": [
    "alpha = [1, 2, 3]\n",
    "beta = alpha  # beta là một bí danh (alias) của alpha, cùng trỏ đến một list [cite: 1799]\n",
    "\n",
    "# Thao tác này sẽ thay đổi list gốc vì beta và alpha là một.\n",
    "beta += [4, 5]  # Phép toán += trên list là một thao tác thay đổi tại chỗ [cite: 1799]\n",
    "print(alpha)  # Kết quả sẽ là [1, 2, 3, 4, 5] [cite: 1801]\n",
    "\n",
    "# Thao tác này tạo ra một list mới và gán beta cho list mới đó.\n",
    "beta = beta + [6, 7]  # Phép + tạo ra một list mới hoàn toàn [cite: 1800]\n",
    "print(alpha)  # Kết quả vẫn là [1, 2, 3, 4, 5], không bị ảnh hưởng [cite: 1801]\n",
    "print(beta)   # Kết quả là [1, 2, 3, 4, 5, 6, 7]"
   ]
  },
  {
   "cell_type": "markdown",
   "id": "7515ca12",
   "metadata": {},
   "source": [
    "## Các thao tác với List"
   ]
  },
  {
   "cell_type": "markdown",
   "id": "a0a12a9c",
   "metadata": {},
   "source": [
    "a. Truy cập và Lấy Lát cắt (Accessing and Slicing)"
   ]
  },
  {
   "cell_type": "code",
   "execution_count": 15,
   "id": "2b7172ed",
   "metadata": {},
   "outputs": [
    {
     "name": "stdout",
     "output_type": "stream",
     "text": [
      "c\n",
      "e\n"
     ]
    }
   ],
   "source": [
    "#s[j]: Truy cập phần tử tại chỉ số j. Chỉ số bắt đầu từ 0 và cũng hỗ trợ chỉ số âm để đếm từ cuối\n",
    "my_list = ['a', 'b', 'c', 'd', 'e']\n",
    "print(my_list[2])    # Output: c\n",
    "print(my_list[-1])   # Output: e"
   ]
  },
  {
   "cell_type": "code",
   "execution_count": 16,
   "id": "12dfc4f9",
   "metadata": {},
   "outputs": [
    {
     "name": "stdout",
     "output_type": "stream",
     "text": [
      "['b', 'c', 'd']\n"
     ]
    }
   ],
   "source": [
    "#s[start:stop]: Lấy một \"lát cắt\" (slice) từ chỉ số start đến trước stop.\n",
    "my_list = ['a', 'b', 'c', 'd', 'e']\n",
    "print(my_list[1:4])  # Output: ['b', 'c', 'd']"
   ]
  },
  {
   "cell_type": "markdown",
   "id": "52fd3d4e",
   "metadata": {},
   "source": [
    "b. Thêm Phần tử"
   ]
  },
  {
   "cell_type": "code",
   "execution_count": 17,
   "id": "f502b5be",
   "metadata": {},
   "outputs": [
    {
     "name": "stdout",
     "output_type": "stream",
     "text": [
      "[10, 20, 30]\n"
     ]
    }
   ],
   "source": [
    "\"\"\"\n",
    "s.append(value): Thêm một phần tử vào cuối danh sách. \n",
    "Đây là thao tác có chi phí trung bình O(1).\n",
    "\"\"\"\n",
    "my_list = [10, 20]\n",
    "my_list.append(30)\n",
    "print(my_list) # Output: [10, 20, 30]"
   ]
  },
  {
   "cell_type": "code",
   "execution_count": null,
   "id": "ffdc91b0",
   "metadata": {},
   "outputs": [
    {
     "name": "stdout",
     "output_type": "stream",
     "text": [
      "[10, 20, 30]\n"
     ]
    }
   ],
   "source": [
    "\"\"\"s.insert(k, value): Chèn một phần tử vào vị trí chỉ số k, \n",
    "các phần tử sau đó sẽ được đẩy về phía sau. \n",
    "Thao tác này có chi phí O(n-k+1) do phải sao chép các phần tử sau đó.\"\"\"\n",
    "my_list = [10, 30]\n",
    "my_list.insert(1, 20)\n",
    "print(my_list) # Output: [10, 20, 30]"
   ]
  },
  {
   "cell_type": "code",
   "execution_count": 19,
   "id": "4266db6d",
   "metadata": {},
   "outputs": [
    {
     "name": "stdout",
     "output_type": "stream",
     "text": [
      "[1, 2, 3, 4]\n"
     ]
    }
   ],
   "source": [
    "\"\"\"\n",
    "s.extend(iterable) hoặc s += iterable: Nối tất cả các phần tử từ một đối tượng iterable (list, string, tuple,... ) vào cuối list hiện tại.\n",
    "\"\"\"\n",
    "my_list = [1, 2]\n",
    "my_list.extend([3, 4])\n",
    "print(my_list) # Output: [1, 2, 3, 4]"
   ]
  },
  {
   "cell_type": "code",
   "execution_count": 20,
   "id": "280f5616",
   "metadata": {},
   "outputs": [
    {
     "name": "stdout",
     "output_type": "stream",
     "text": [
      "[1, 2, 3, 4]\n"
     ]
    }
   ],
   "source": [
    "\"\"\"\n",
    "s + t: Nối hai list s và t để tạo ra một list mới\n",
    "\"\"\"\n",
    "list1 = [1, 2]\n",
    "list2 = [3, 4]\n",
    "new_list = list1 + list2\n",
    "print(new_list) # Output: [1, 2, 3, 4]"
   ]
  },
  {
   "cell_type": "markdown",
   "id": "ff3402b5",
   "metadata": {},
   "source": [
    "#"
   ]
  },
  {
   "cell_type": "markdown",
   "id": "27625577",
   "metadata": {},
   "source": [
    "c. Xóa Phần tử"
   ]
  },
  {
   "cell_type": "code",
   "execution_count": null,
   "id": "cccd3d2f",
   "metadata": {},
   "outputs": [],
   "source": [
    "#s.pop(): Xóa và trả về phần tử cuối cùng của list. Chi phí trung bình O(1).\n",
    "my_list = [10, 20, 30]\n",
    "last_element = my_list.pop()\n",
    "print(last_element) # Output: 30\n",
    "print(my_list)      # Output: [10, 20]\n",
    "\n",
    "#s.pop(k): Xóa và trả về phần tử tại chỉ số k. Chi phí O(n-k)\n",
    "my_list = [10, 20, 30]\n",
    "element = my_list.pop(1)\n",
    "print(element)  # Output: 20\n",
    "print(my_list)  # Output: [10, 30]\n",
    "\n",
    "#s.remove(value): Xóa phần tử đầu tiên có giá trị value. Chi phí O(n).\n",
    "my_list = [10, 20, 30, 20]\n",
    "my_list.remove(20)\n",
    "print(my_list) # Output: [10, 30, 20]\n",
    "\n",
    "#s.clear(): Xóa tất cả các phần tử khỏi list. Chi phí O(1).\n",
    "my_list = [10, 20, 30]\n",
    "my_list.clear()\n",
    "print(my_list) # Output: []\n"
   ]
  },
  {
   "cell_type": "markdown",
   "id": "ed0b80ec",
   "metadata": {},
   "source": [
    "d. Sửa đổi và các thao tác khác"
   ]
  },
  {
   "cell_type": "code",
   "execution_count": null,
   "id": "262f4891",
   "metadata": {},
   "outputs": [
    {
     "name": "stdout",
     "output_type": "stream",
     "text": [
      "[10, 99, 30]\n"
     ]
    }
   ],
   "source": [
    "#s[j] = value: Thay thế giá trị tại chỉ số j\n",
    "my_list = [10, 20, 30]\n",
    "my_list[1] = 99\n",
    "print(my_list) # Output: [10, 99, 30]"
   ]
  },
  {
   "cell_type": "code",
   "execution_count": null,
   "id": "50091815",
   "metadata": {},
   "outputs": [],
   "source": [
    "#s.sort(): Sắp xếp các phần tử của list theo thứ tự tăng dần.\n",
    "my_list = [30, 10, 20]\n",
    "my_list.sort()\n",
    "print(my_list) # Output: [10, 20, 30]\n",
    "#s.reverse(): Đảo ngược thứ tự các phần tử của list.\n",
    "my_list = [10, 20, 30]"
   ]
  }
 ],
 "metadata": {
  "kernelspec": {
   "display_name": "venv",
   "language": "python",
   "name": "python3"
  },
  "language_info": {
   "codemirror_mode": {
    "name": "ipython",
    "version": 3
   },
   "file_extension": ".py",
   "mimetype": "text/x-python",
   "name": "python",
   "nbconvert_exporter": "python",
   "pygments_lexer": "ipython3",
   "version": "3.12.2"
  }
 },
 "nbformat": 4,
 "nbformat_minor": 5
}
