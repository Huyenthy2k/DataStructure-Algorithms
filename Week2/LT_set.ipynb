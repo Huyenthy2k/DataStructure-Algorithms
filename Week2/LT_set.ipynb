{
 "cells": [
  {
   "cell_type": "markdown",
   "id": "17153582",
   "metadata": {},
   "source": [
    "# Set"
   ]
  },
  {
   "cell_type": "markdown",
   "id": "89263c99",
   "metadata": {},
   "source": [
    "a. Bản chất\n",
    "Set đại diện cho khái niệm tập hợp trong toán học: một bộ sưu tập các phần tử không có thứ tự và không có sự trùng lặp.\n",
    "\n",
    "b. Đặc điểm chính\n",
    "- Không có thứ tự (Unordered): Các phần tử không được lưu trữ ở một vị trí cụ thể.\n",
    "- Có thể thay đổi (Mutable): Bạn có thể thêm hoặc bớt các phần tử.\n",
    "- Không có chỉ số (Not Indexed): Bạn không thể truy cập phần tử bằng set[0]. Thay vào đó, bạn kiểm tra sự tồn tại của một phần tử (element in my_set).\n",
    "- Không cho phép trùng lặp: Mỗi phần tử chỉ xuất hiện một lần. Nếu bạn thêm một phần tử đã tồn tại, set sẽ không thay đổi.\n",
    "\n",
    "c. Cấu trúc bên trong và Hiệu năng\n",
    "Bảng băm (Hash Table): Đây là điểm cốt lõi. Set được triển khai bằng bảng băm, giúp cho việc kiểm tra một phần tử có nằm trong set hay không được tối ưu hóa ở mức độ cao. Thao tác này có hiệu năng trung bình là O(1) (hằng số), nhanh hơn rất nhiều so với việc duyệt qua một List (O(n)).\n",
    "\n",
    "Hạn chế: Do cấu trúc bảng băm, set có hai hạn chế quan trọng:\n",
    "- Nó không duy trì thứ tự các phần tử.\n",
    "- Chỉ các đối tượng thuộc kiểu bất biến (immutable) mới có thể được thêm vào set. Do đó, bạn có thể có một set chứa các tuple, nhưng không thể có một set chứa các list hay các set khác."
   ]
  },
  {
   "cell_type": "markdown",
   "id": "629ace41",
   "metadata": {},
   "source": [
    "## Các thao tác với Set\n",
    "Set là một tập hợp các phần tử không có thứ tự và không trùng lặp. Các thao tác của nó mô phỏng các phép toán trong lý thuyết tập hợp"
   ]
  },
  {
   "cell_type": "markdown",
   "id": "932f38d6",
   "metadata": {},
   "source": [
    "a. Thêm và Xóa Phần tử"
   ]
  },
  {
   "cell_type": "code",
   "execution_count": 62,
   "id": "c10b7e07",
   "metadata": {},
   "outputs": [
    {
     "name": "stdout",
     "output_type": "stream",
     "text": [
      "{10, 20, 30}\n"
     ]
    }
   ],
   "source": [
    "#s.add(e): Thêm một phần tử e vào set. Nếu e đã tồn tại, set không thay đổi.\n",
    "my_set = {10, 20}\n",
    "my_set.add(30)\n",
    "my_set.add(20) # Thêm phần tử đã tồn tại\n",
    "print(my_set) # Output: {10, 20, 30}"
   ]
  },
  {
   "cell_type": "code",
   "execution_count": 63,
   "id": "6fdf4074",
   "metadata": {},
   "outputs": [
    {
     "name": "stdout",
     "output_type": "stream",
     "text": [
      "{10, 30}\n"
     ]
    }
   ],
   "source": [
    "#s.remove(e): Xóa phần tử e khỏi set. Nếu e không tồn tại, sẽ gây ra lỗi.\n",
    "my_set = {10, 20, 30}\n",
    "my_set.remove(20)\n",
    "print(my_set) # Output: {10, 30}"
   ]
  },
  {
   "cell_type": "code",
   "execution_count": 64,
   "id": "f602112a",
   "metadata": {},
   "outputs": [
    {
     "name": "stdout",
     "output_type": "stream",
     "text": [
      "{30}\n"
     ]
    }
   ],
   "source": [
    "#s.discard(e): Xóa phần tử e nếu nó tồn tại, không làm gì cả nếu nó không tồn tại (không gây lỗi).\n",
    "my_set = {10, 30}\n",
    "my_set.discard(10)\n",
    "my_set.discard(99) # Không gây lỗi\n",
    "print(my_set) # Output: {30}"
   ]
  },
  {
   "cell_type": "code",
   "execution_count": 65,
   "id": "c7553df6",
   "metadata": {},
   "outputs": [
    {
     "name": "stdout",
     "output_type": "stream",
     "text": [
      "10\n",
      "{20, 30}\n"
     ]
    }
   ],
   "source": [
    "#s.pop(): Xóa và trả về một phần tử bất kỳ từ set vì set không có thứ tự..\n",
    "my_set = {10, 20, 30}\n",
    "element = my_set.pop()\n",
    "print(element) # Output có thể là 10, 20, hoặc 30\n",
    "print(my_set)"
   ]
  },
  {
   "cell_type": "code",
   "execution_count": 66,
   "id": "d5f3b17b",
   "metadata": {},
   "outputs": [
    {
     "name": "stdout",
     "output_type": "stream",
     "text": [
      "set()\n"
     ]
    }
   ],
   "source": [
    "#s.clear(): Xóa tất cả các phần tử khỏi set.\n",
    "my_set = {10, 20, 30}\n",
    "my_set.clear()\n",
    "print(my_set) # Output: set()"
   ]
  },
  {
   "cell_type": "markdown",
   "id": "de219f84",
   "metadata": {},
   "source": [
    "b. Các phép toán tập hợp"
   ]
  },
  {
   "cell_type": "code",
   "execution_count": 67,
   "id": "9c3b2e8e",
   "metadata": {},
   "outputs": [
    {
     "name": "stdout",
     "output_type": "stream",
     "text": [
      "{1, 2, 3, 4, 5}\n"
     ]
    }
   ],
   "source": [
    "#s | t: Phép hợp (union). Trả về một set mới chứa tất cả các phần tử từ s và t.\n",
    "set1 = {1, 2, 3}\n",
    "set2 = {3, 4, 5}\n",
    "union_set = set1 | set2\n",
    "print(union_set) # Output: {1, 2, 3, 4, 5}"
   ]
  },
  {
   "cell_type": "code",
   "execution_count": 68,
   "id": "e9a54223",
   "metadata": {},
   "outputs": [
    {
     "name": "stdout",
     "output_type": "stream",
     "text": [
      "{3}\n"
     ]
    }
   ],
   "source": [
    "#s & t: Phép giao (intersection). Trả về một set mới chứa các phần tử chung của s và t.\n",
    "set1 = {1, 2, 3}\n",
    "set2 = {3, 4, 5}\n",
    "intersection_set = set1 & set2\n",
    "print(intersection_set) # Output: {3}"
   ]
  },
  {
   "cell_type": "code",
   "execution_count": 69,
   "id": "f7c14abe",
   "metadata": {},
   "outputs": [
    {
     "name": "stdout",
     "output_type": "stream",
     "text": [
      "{1, 2}\n"
     ]
    }
   ],
   "source": [
    "#s - t: Phép hiệu (difference). Trả về một set mới chứa các phần tử thuộc s nhưng không thuộc t.\n",
    "set1 = {1, 2, 3}\n",
    "set2 = {3, 4, 5}\n",
    "difference_set = set1 - set2\n",
    "print(difference_set) # Output: {1, 2}"
   ]
  },
  {
   "cell_type": "code",
   "execution_count": 70,
   "id": "0bc20d44",
   "metadata": {},
   "outputs": [
    {
     "name": "stdout",
     "output_type": "stream",
     "text": [
      "{1, 2, 4, 5}\n"
     ]
    }
   ],
   "source": [
    "#s ^ t: Phép hiệu đối xứng (symmetric difference). \n",
    "# Trả về một set mới chứa các phần tử chỉ thuộc s hoặc chỉ thuộc t, nhưng không thuộc cả hai\n",
    "set1 = {1, 2, 3}\n",
    "set2 = {3, 4, 5}\n",
    "symmetric_difference_set = set1 ^ set2\n",
    "print(symmetric_difference_set) # Output: {1, 2, 4, 5}"
   ]
  },
  {
   "cell_type": "code",
   "execution_count": null,
   "id": "3e336fd7",
   "metadata": {},
   "outputs": [],
   "source": [
    "# kiểm tra sự tồn tại của phần tử trong set\n",
    "my_set = {1, 2, 3}\n",
    "print(2 in my_set) # Output: True\n",
    "print(4 in my_set) # Output: False\n",
    "# lấy số lượng phần tử trong set\n",
    "my_set = {1, 2, 3}\n",
    "print(len(my_set)) # Output: 3"
   ]
  }
 ],
 "metadata": {
  "kernelspec": {
   "display_name": "venv",
   "language": "python",
   "name": "python3"
  },
  "language_info": {
   "codemirror_mode": {
    "name": "ipython",
    "version": 3
   },
   "file_extension": ".py",
   "mimetype": "text/x-python",
   "name": "python",
   "nbconvert_exporter": "python",
   "pygments_lexer": "ipython3",
   "version": "3.12.2"
  }
 },
 "nbformat": 4,
 "nbformat_minor": 5
}
