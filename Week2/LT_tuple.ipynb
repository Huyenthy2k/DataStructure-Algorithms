{
 "cells": [
  {
   "cell_type": "markdown",
   "id": "2f27a50d",
   "metadata": {},
   "source": [
    "# Tuple (Bộ)\n",
    "a. Bản chất\n",
    "Tuple là một chuỗi các đối tượng không thể thay đổi được (immutable sequence of objects). Nó giống như một phiên bản \"chỉ đọc\" của List.\n",
    "\n",
    "\n",
    "b. Đặc điểm chính\n",
    "- Có thứ tự (Ordered): Tương tự như List.\n",
    "- Không thể thay đổi (Immutable): Một khi đã được tạo, bạn không thể thêm, bớt, hay thay đổi các phần tử của nó.\n",
    "- Truy cập bằng chỉ số (Indexed): Tương tự như List.\n",
    "- Cho phép trùng lặp: Tương tự như List.\n",
    "\n",
    "c. Cấu trúc bên trong và Hiệu năng\n",
    "Vì là bất biến, tuple có một biểu diễn nội bộ được tối ưu và tinh gọn hơn so với list. Nó không cần cơ chế mảng động để thay đổi kích thước. Điều này làm cho tuple:\n",
    "- Tiết kiệm bộ nhớ hơn.\n",
    "- Nhanh hơn một chút trong việc tạo và truy cập.\n"
   ]
  },
  {
   "cell_type": "markdown",
   "id": "7cf8c4d3",
   "metadata": {},
   "source": [
    "## Các thao tác với Tuple\n",
    "\n",
    "Không có các thao tác để thêm, xóa hay sửa đổi phần tử. Các thao tác chính của nó tập trung vào việc truy cập và tạo ra các tuple mới."
   ]
  },
  {
   "cell_type": "code",
   "execution_count": 1,
   "id": "2617343d",
   "metadata": {},
   "outputs": [
    {
     "name": "stdout",
     "output_type": "stream",
     "text": [
      "c\n",
      "('b', 'c', 'd')\n"
     ]
    }
   ],
   "source": [
    "\"\"\"\n",
    "Truy cập và Lấy lát cắt: Giống hệt như List.\n",
    "t[j]: Truy cập phần tử tại chỉ số j.\n",
    "t[start:stop]: Lấy lát cắt\n",
    "\"\"\"\n",
    "my_tuple = ('a', 'b', 'c', 'd', 'e')\n",
    "print(my_tuple[2])   # Output: c\n",
    "print(my_tuple[1:4]) # Output: ('b', 'c', 'd')"
   ]
  },
  {
   "cell_type": "code",
   "execution_count": 2,
   "id": "63731fde",
   "metadata": {},
   "outputs": [
    {
     "name": "stdout",
     "output_type": "stream",
     "text": [
      "(1, 2, 3, 4)\n",
      "(1, 2, 1, 2, 1, 2)\n"
     ]
    }
   ],
   "source": [
    "\"\"\"\n",
    "Tạo Tuple mới từ Tuple cũ:\n",
    "t1 + t2: Nối hai tuple để tạo một tuple mới.\n",
    "k * t: Lặp lại tuple k lần để tạo một tuple mới.\n",
    "\"\"\"\n",
    "tuple1 = (1, 2)\n",
    "tuple2 = (3, 4)\n",
    "new_tuple = tuple1 + tuple2\n",
    "print(new_tuple) # Output: (1, 2, 3, 4)\n",
    "\n",
    "repeated_tuple = tuple1 * 3\n",
    "print(repeated_tuple) # Output: (1, 2, 1, 2, 1, 2)"
   ]
  }
 ],
 "metadata": {
  "kernelspec": {
   "display_name": "venv",
   "language": "python",
   "name": "python3"
  },
  "language_info": {
   "codemirror_mode": {
    "name": "ipython",
    "version": 3
   },
   "file_extension": ".py",
   "mimetype": "text/x-python",
   "name": "python",
   "nbconvert_exporter": "python",
   "pygments_lexer": "ipython3",
   "version": "3.12.2"
  }
 },
 "nbformat": 4,
 "nbformat_minor": 5
}
