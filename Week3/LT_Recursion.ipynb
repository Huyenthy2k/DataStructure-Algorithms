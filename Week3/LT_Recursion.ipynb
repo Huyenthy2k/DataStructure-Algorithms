{
 "cells": [
  {
   "cell_type": "markdown",
   "id": "3deefcea",
   "metadata": {},
   "source": [
    "# Tổng quan về Đệ quy\n",
    "Đệ quy là một kỹ thuật mạnh mẽ trong đó một hàm tự gọi lại chính nó trong quá trình thực thi. Thay vì sử dụng các vòng lặp tuần tự như while hay for để thực hiện sự lặp lại, đệ quy giải quyết vấn đề bằng cách chia nó thành các bài toán con nhỏ hơn có cùng cấu trúc.\n",
    "\n",
    "Một hình ảnh trực quan để hiểu về đệ quy là búp bê Matryoshka của Nga. Mỗi con búp bê hoặc là một khối gỗ đặc (trường hợp cơ sở), hoặc rỗng và chứa một con búp bê Matryoshka khác nhỏ hơn bên trong.\n",
    "\n",
    "### Các Thành phần Cốt lõi của một Thuật toán Đệ quy\n",
    "Mọi thuật toán đệ quy hiệu quả đều được xây dựng dựa trên hai thành phần chính:\n",
    "- Trường hợp cơ sở (Base Cases): Đây là những trường hợp đơn giản nhất của bài toán mà có thể được giải quyết trực tiếp mà không cần gọi đệ quy thêm nữa. Phải có ít nhất một trường hợp cơ sở, và chúng đảm bảo rằng chuỗi các lệnh gọi đệ quy sẽ kết thúc.\n",
    "\n",
    "- Trường hợp đệ quy (Recursive Cases): Trong trường hợp này, hàm sẽ thực hiện một hoặc nhiều lệnh gọi đệ quy đến chính nó. Mỗi lệnh gọi đệ quy này phải giải quyết một bài toán con \"nhỏ hơn\", tức là tiến gần hơn đến một trường hợp cơ sở.\n",
    "\n",
    "Khi một hàm được gọi đệ quy, lời gọi hiện tại sẽ bị tạm dừng cho đến khi lời gọi đệ quy lồng bên trong hoàn tất. Python quản lý chuỗi các lời gọi lồng nhau này bằng cách sử dụng ngăn xếp cuộc gọi (call stack). Mỗi khi một hàm được gọi, một bản ghi kích hoạt (activation record) được tạo ra để lưu trữ thông tin về lời gọi đó (như các tham số, biến cục bộ) và được đẩy vào ngăn xếp"
   ]
  }
 ],
 "metadata": {
  "language_info": {
   "name": "python"
  }
 },
 "nbformat": 4,
 "nbformat_minor": 5
}
