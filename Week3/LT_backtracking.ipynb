{
 "cells": [
  {
   "cell_type": "markdown",
   "id": "93af4e07",
   "metadata": {},
   "source": [
    "# Thuật toán Quay lui (Backtracking):\n",
    "\n",
    "Hãy tưởng tượng bạn đang ở trong một mê cung. Mục tiêu của bạn là tìm đường ra. Bạn sẽ làm gì? Một chiến lược tự nhiên là: đi theo một con đường, ở mỗi ngã rẽ, bạn chọn một hướng. Bạn tiếp tục đi cho đến khi hoặc là tìm thấy lối ra, hoặc là đi vào một ngõ cụt. Khi gặp ngõ cụt, bạn làm gì? Bạn quay lui lại ngã rẽ cuối cùng và thử một hướng đi khác chưa được khám phá.\n",
    "\n",
    "Backtracking chính là phiên bản thuật toán của chiến lược giải mê cung này."
   ]
  },
  {
   "cell_type": "markdown",
   "id": "283438fe",
   "metadata": {},
   "source": [
    "### Bản chất của Backtracking là gì?\n",
    "- Backtracking là một kỹ thuật thiết kế thuật toán dựa trên đệ quy, dùng để giải quyết các bài toán liên quan đến việc tìm kiếm một hoặc tất cả các giải pháp thỏa mãn một tập hợp các ràng buộc.\n",
    "\n",
    "- Nó là một dạng tìm kiếm vét cạn (brute-force) thông minh. Thay vì thử tất cả các khả năng một cách mù quáng, backtracking sẽ xây dựng giải pháp từng bước một. Tại mỗi bước, nếu nó nhận thấy lựa chọn hiện tại không thể dẫn đến một giải pháp hợp lệ, nó sẽ \"cắt tỉa\" (prune) nhánh tìm kiếm đó và quay lui để thử một lựa chọn khác.\n",
    "\n",
    "* Các đặc điểm cốt lõi:\n",
    "\n",
    "- Xây dựng giải pháp từng phần (Incremental Construction): Thuật toán xây dựng một giải pháp ứng viên, thêm vào từng thành phần một.\n",
    "\n",
    "- Kiểm tra ràng buộc (Constraint Checking): Sau mỗi bước thêm vào, nó kiểm tra xem giải pháp ứng viên hiện tại có vi phạm bất kỳ ràng buộc nào không.\n",
    "\n",
    "- Quay lui (Backtracking): Nếu một lựa chọn dẫn đến vi phạm hoặc không thể phát triển thành giải pháp, thuật toán sẽ hủy bỏ lựa chọn đó và thử một lựa chọn khác ở bước trước đó."
   ]
  },
  {
   "cell_type": "markdown",
   "id": "fb1016fd",
   "metadata": {},
   "source": [
    "### Cây Không gian Trạng thái (State-Space Tree)\n",
    "Đây là một cây trừu tượng biểu diễn tất cả các khả năng mà thuật toán có thể khám phá.\n",
    "\n",
    "- Gốc cây (Root): Trạng thái ban đầu, chưa có lựa chọn nào được thực hiện.\n",
    "\n",
    "- Mỗi nút (Node): Một giải pháp ứng viên đang được xây dựng (một trạng thái trong quá trình tìm kiếm).\n",
    "\n",
    "- Mỗi cạnh (Edge): Một lựa chọn cụ thể được đưa ra tại một bước.\n",
    "\n",
    "- Lá cây (Leaf): Một giải pháp ứng viên hoàn chỉnh (có thể hợp lệ hoặc không).\n",
    "\n",
    "Backtracking thực chất là một cuộc duyệt cây không gian trạng thái theo chiều sâu (Depth-First Search - DFS).\n",
    "\n",
    "-> Điểm \"thông minh\" của backtracking so với DFS vét cạn thông thường là khả năng cắt tỉa. Nếu tại một nút P, thuật toán xác định rằng không có nút con nào của P có thể dẫn đến một giải pháp hợp lệ, nó sẽ không đi sâu vào cây con bắt nguồn từ P nữa. Nó sẽ \"quay lui\" lên nút cha của P."
   ]
  },
  {
   "cell_type": "markdown",
   "id": "c670293a",
   "metadata": {},
   "source": [
    "### Khi nào nên sử dụng Backtracking?\n",
    "Backtracking là lựa chọn lý tưởng cho các bài toán có các đặc điểm sau:\n",
    "- Bài toán có thể được mô hình hóa dưới dạng một chuỗi các quyết định/lựa chọn.\n",
    "- Có một tập hợp các ràng buộc rõ ràng mà giải pháp cuối cùng phải tuân thủ.\n",
    "- Mục tiêu là tìm một giải pháp, tất cả các giải pháp, hoặc giải pháp tốt nhất (tối ưu).\n",
    "\n",
    "*Các ví dụ kinh điển:\n",
    "\n",
    "- Bài toán N-Hậu (N-Queens Problem): Đặt N quân hậu trên bàn cờ N×N sao cho không có hai quân hậu nào ăn nhau.\n",
    "- Giải Sudoku: Điền các số vào lưới Sudoku sao cho thỏa mãn quy tắc.\n",
    "- Tìm đường trong mê cung (Maze Solving).\n",
    "- Liệt kê các hoán vị/tổ hợp (Permutations/Combinations): Tìm tất cả các cách sắp xếp hoặc chọn các phần tử từ một tập hợp.\n",
    "- Bài toán tổng của tập con (Subset Sum Problem): Tìm một tập con của một tập hợp các số có tổng bằng một giá trị cho trước."
   ]
  },
  {
   "cell_type": "markdown",
   "id": "1af6f215",
   "metadata": {},
   "source": [
    "### Cấu trúc chung của một thuật toán Backtracking\n",
    "Hầu hết các thuật toán backtracking đều tuân theo một khuôn mẫu đệ quy chung như sau:\n",
    "\n",
    "def backtrack(candidate_solution):\n",
    "    # 1. Kiểm tra nếu giải pháp ứng viên là một giải pháp hoàn chỉnh và hợp lệ\n",
    "    if is_a_solution(candidate_solution):\n",
    "        process_solution(candidate_solution) # Lưu lại, in ra, hoặc đếm\n",
    "        return\n",
    "\n",
    "    # 2. Lặp qua tất cả các lựa chọn khả thi cho bước tiếp theo\n",
    "    for next_choice in list_of_possible_choices():\n",
    "        \n",
    "        # 3. Kiểm tra xem lựa chọn có hợp lệ không (có tiềm năng dẫn đến giải pháp)\n",
    "        if is_valid(next_choice):\n",
    "            \n",
    "            # 3.1. Thử lựa chọn này\n",
    "            add_choice_to_solution(next_choice)\n",
    "            \n",
    "            # 3.2. Gọi đệ quy để tiếp tục xây dựng giải pháp\n",
    "            backtrack(updated_solution)\n",
    "            \n",
    "            # 3.3. QUAY LUI: Hủy bỏ lựa chọn vừa thử để có thể thử các lựa chọn khác\n",
    "            remove_choice_from_solution(next_choice)"
   ]
  },
  {
   "cell_type": "markdown",
   "id": "21b5fa57",
   "metadata": {},
   "source": [
    "- is_a_solution: Hàm kiểm tra xem đã đạt được mục tiêu chưa (ví dụ: đã đặt đủ N quân hậu chưa?).\n",
    "\n",
    "- process_solution: Xử lý giải pháp khi tìm thấy (ví dụ: thêm vào danh sách kết quả).\n",
    "\n",
    "- list_of_possible_choices: Tạo ra danh sách các lựa chọn có thể thử ở bước hiện tại.\n",
    "\n",
    "- is_valid: Đây là trái tim của việc \"cắt tỉa\". Nó kiểm tra xem lựa chọn hiện tại có vi phạm ràng buộc nào không.\n",
    "\n",
    "- add_choice... và remove_choice...: Cặp hành động này rất quan trọng. add là bước \"tiến tới\" trong mê cung, còn remove là bước \"quay lui\" để xóa dấu vết, cho phép khám phá các con đường khác."
   ]
  }
 ],
 "metadata": {
  "language_info": {
   "name": "python"
  }
 },
 "nbformat": 4,
 "nbformat_minor": 5
}
