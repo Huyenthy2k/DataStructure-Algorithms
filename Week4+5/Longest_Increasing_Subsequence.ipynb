{
 "cells": [
  {
   "cell_type": "markdown",
   "id": "5c7e6a85",
   "metadata": {},
   "source": [
    "### 1. Bản chất vấn đề \n",
    "Dãy con (Subsequence): Là một dãy thu được từ dãy ban đầu bằng cách xóa đi 0 hoặc nhiều phần tử. Các phần tử còn lại phải giữ nguyên thứ tự.\n",
    "\n",
    "Ví dụ: Dãy [10, 9, 2, 5, 3, 7, 101, 18]\n",
    "- [2, 5, 7, 101] là một dãy con (lấy các số 2, 5, 7, 101).\n",
    "- [10, 2, 7] là một dãy con.\n",
    "- [10, 5, 2] không phải là dãy con, vì 5 đứng sau 2 trong dãy gốc.\n",
    "\n",
    "Dãy con tăng: Là một dãy con mà các phần tử theo thứ tự tăng dần.\n",
    "- [2, 5, 7, 101] là một dãy con tăng.\n",
    "- [2, 3, 7, 18] cũng là một dãy con tăng.\n",
    "\n",
    "Mục tiêu: Tìm độ dài của dãy con tăng dài nhất.\n",
    "Trong ví dụ trên, dãy dài nhất là [2, 5, 7, 101] (hoặc [2, 3, 7, 101], [2, 5, 7, 18], [2, 3, 7, 18]). Tất cả đều có độ dài là 4."
   ]
  },
  {
   "cell_type": "markdown",
   "id": "4ba78143",
   "metadata": {},
   "source": [
    "### 2. Cách 1: Quy hoạch động $O(N^2)$ (Logic \"Xây tháp\")\n",
    "- Ý tưởng cốt lõi: Hãy tưởng tượng đang \"xây các tòa tháp\". Mỗi số là một \"viên gạch\". \n",
    "    - Nếu muốn xây một dãy tăng kết thúc tại vị trí i (tức là nums[i] là phần tử cuối cùng), thì dãy đó sẽ dài bao nhiêu? \n",
    "    - Để trả lời câu hỏi này -> nhìn lại tất cả các vị trí j đứng trước i (tức là $j < i$):Tìm điều kiện \"xây\": chỉ có thể đặt viên gạch nums[i] lên trên viên gạch nums[j] nếu nums[i] > nums[j] (để đảm bảo dãy tăng).\n",
    "    - Tìm cách \"xây cao nhất\": Nếu đặt nums[i] lên trên nums[j], độ dài dãy mới sẽ là (độ dài dãy kết thúc tại j) + 1\n",
    "    - Quyết định: cần chọn cái j nào cho độ dài lớn nhất.\n",
    "      - Trường hợp cơ sở: Nếu không có j nào thỏa mãn (ví dụ, nums[i] nhỏ hơn tất cả các số trước nó), thì nums[i] phải tự bắt đầu một dãy mới. Dãy này có độ dài là 1.\n",
    "- Triển khai (Code): dùng một mảng dp (dynamic programming) có cùng độ dài với mảng số nums.dp[i] sẽ lưu trữ: \"Độ dài của dãy con tăng dài nhất KẾT THÚC tại vị trí i\"."
   ]
  },
  {
   "cell_type": "code",
   "execution_count": 1,
   "id": "f1033163",
   "metadata": {},
   "outputs": [
    {
     "name": "stdout",
     "output_type": "stream",
     "text": [
      "Dãy số: [10, 9, 2, 5, 3, 7, 101, 18]\n",
      "Độ dài LIS (O(N^2)): 4\n"
     ]
    }
   ],
   "source": [
    "def lengthOfLIS_N2(nums: list[int]) -> int:\n",
    "    if not nums:\n",
    "        return 0\n",
    "\n",
    "    n = len(nums)\n",
    "    # dp[i] = độ dài LIS kết thúc tại nums[i]\n",
    "    # Khởi tạo tất cả bằng 1 (trường hợp tệ nhất, mỗi số tự tạo thành 1 dãy)\n",
    "    dp = [1] * n\n",
    "\n",
    "    # Duyệt qua từng phần tử từ đầu đến cuối\n",
    "    for i in range(n):\n",
    "        # Nhìn lại tất cả các phần tử j đứng trước i\n",
    "        for j in range(i):\n",
    "            # Nếu nums[i] có thể \"đặt\" lên trên nums[j]\n",
    "            if nums[i] > nums[j]:\n",
    "                # Cập nhật: \"Nếu xây trên j, tôi có cao hơn hiện tại không?\"\n",
    "                # dp[j] + 1: độ dài nếu đặt i lên trên j\n",
    "                # dp[i]: độ dài hiện tại của i (có thể đã tìm được từ 1 cái k khác j)\n",
    "                dp[i] = max(dp[i], dp[j] + 1)\n",
    "                \n",
    "    # Kết quả cuối cùng KHÔNG phải là dp[n-1]\n",
    "    # Mà là giá trị lớn nhất trong toàn bộ mảng dp,\n",
    "    # vì dãy tăng dài nhất có thể kết thúc ở bất kỳ đâu.\n",
    "    return max(dp)\n",
    "\n",
    "# ---- Thử nghiệm ----\n",
    "nums = [10, 9, 2, 5, 3, 7, 101, 18]\n",
    "print(f\"Dãy số: {nums}\")\n",
    "print(f\"Độ dài LIS (O(N^2)): {lengthOfLIS_N2(nums)}\") # Output: 4"
   ]
  }
 ],
 "metadata": {
  "kernelspec": {
   "display_name": "venv",
   "language": "python",
   "name": "python3"
  },
  "language_info": {
   "codemirror_mode": {
    "name": "ipython",
    "version": 3
   },
   "file_extension": ".py",
   "mimetype": "text/x-python",
   "name": "python",
   "nbconvert_exporter": "python",
   "pygments_lexer": "ipython3",
   "version": "3.12.2"
  }
 },
 "nbformat": 4,
 "nbformat_minor": 5
}
