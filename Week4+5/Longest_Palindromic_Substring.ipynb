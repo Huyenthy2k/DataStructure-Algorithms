{
 "cells": [
  {
   "cell_type": "markdown",
   "id": "a0ca49a0",
   "metadata": {},
   "source": [
    "### 1. Bản chất vấn đề \n",
    "- Palindrome là gì? Là một xâu (string) đọc xuôi hay ngược đều giống nhau.\n",
    "Ví dụ: \"level\", \"madam\", \"TIT\", \"RacecaR\".\n",
    "\n",
    "- Xâu con (Substring) là gì? Là một đoạn liên tục các ký tự trong xâu gốc.\n",
    "\n",
    "Ví dụ: \"abc\" là xâu con của \"abcdef\", nhưng \"ace\" thì không.\n",
    "\n",
    "- Mục tiêu: Tìm ra xâu con dài nhất trong xâu đầu vào mà bản thân nó là một palindrome.\n",
    "\n",
    "- Trong ví dụ: \"abfdRacecaRAbAorTITabcdef\"\n",
    "\n",
    "        - \"TIT\" là một palindrome (dài 3).\n",
    "\n",
    "        - \"AbA\" là một palindrome (dài 3).\n",
    "\n",
    "        - \"RacecaR\" là một palindrome (dài 7).\n",
    "\n",
    "        - Kết quả dài nhất chính là \"RacecaR\"."
   ]
  },
  {
   "cell_type": "markdown",
   "id": "ae34cc54",
   "metadata": {},
   "source": [
    "### Logic cốt lõi: \n",
    "Bất kỳ một xâu palindrome nào cũng đều có một \"tâm\" (center). Từ tâm đó, các ký tự đối xứng nhau qua nó.\n",
    "Chúng ta có hai loại tâm:\n",
    "- Tâm là một ký tự: Dành cho các palindrome có độ dài lẻ.Ví dụ: \"r a c e c a r\" (tâm là 'e').\n",
    "- Tâm là khoảng trống giữa hai ký tự: Dành cho các palindrome có độ dài chẵn.Ví dụ: \"a b | b a\" (tâm là khoảng trống giữa hai chữ 'b').\n",
    "- Thuật toán:Chúng ta sẽ duyệt qua tất cả các tâm có thể có trong xâu, và với mỗi tâm, chúng ta \"nở\" (expand) ra hai bên để xem có thể tạo thành palindrome dài bao nhiêu.\n",
    "  - Một xâu có độ dài $N$ sẽ có:$N$ tâm loại 1 (mỗi ký tự là một tâm).\n",
    "  - $N-1$ tâm loại 2 (mỗi khoảng trống giữa hai ký tự là một tâm).\n",
    "  => Tổng cộng có $2N - 1$ tâm cần kiểm tra.\n",
    "  \n",
    "### Cách làm chi tiết:\n",
    "- Khởi tạo biến maxLength = 0 và start = 0 để lưu độ dài và vị trí bắt đầu của palindrome dài nhất tìm được.\n",
    "- Viết một vòng lặp for i from 0 to N-1 (với $N$ là độ dài xâu). Bên trong vòng lặp, tại mỗi vị trí i, chúng ta kiểm tra cả hai loại tâm:\n",
    "  - Trường hợp 1 (Tâm lẻ, ví dụ \"aBa\"): Gọi hàm expand(i, i). Tức là bắt đầu với tâm là chính ký tự i, hai con trỏ left và right đều trỏ vào i.\n",
    "  - Trường hợp 2 (Tâm chẵn, ví dụ \"aBBa\"): Gọi hàm expand(i, i+1). Tức là bắt đầu với tâm là khoảng trống giữa i và i+1, con trỏ left trỏ vào i và right trỏ vào i+1.\n",
    "  - Hàm expand(left, right) sẽ làm nhiệm vụ:Dùng vòng lặp while để \"nở\" ra hai bên:\n",
    "    - Điều kiện lặp: left vẫn trong biên ( $\\ge 0$ ), right vẫn trong biên ( $< N$ ), và quan trọng nhất: S[left] == S[right].\n",
    "    - Nếu điều kiện đúng: Di chuyển left-- (sang trái) và right++ (sang phải).\n",
    "    - Khi vòng lặp kết thúc (do left/right ra khỏi biên, hoặc S[left] != S[right]), palindrome dài nhất từ tâm này đã được xác định.\n",
    "    - Độ dài của palindrome vừa tìm được là right - left - 1.\n",
    "    - Giải thích: Khi vòng while dừng, left và right đã đi quá biên của palindrome 1 bước. Ví dụ, với \"aBa\", ban đầu left=1, right=1 ('B'). Sau đó left=0, right=2 ('a' và 'a'). Lần tiếp theo, left=-1, right=3, vòng lặp dừng. Độ dài là right - left - 1 = 3 - (-1) - 1 = 3.\n",
    "    - So sánh độ dài này với maxLength. Nếu nó lớn hơn, cập nhật maxLength và start (vị trí bắt đầu sẽ là left + 1).Sau khi vòng lặp for chính kết thúc, ta có start và maxLength. Kết quả là xâu con từ s[start] đến s[start + maxLength - 1]."
   ]
  },
  {
   "cell_type": "code",
   "execution_count": 4,
   "id": "0d8f7cbb",
   "metadata": {},
   "outputs": [
    {
     "name": "stdout",
     "output_type": "stream",
     "text": [
      "Xâu đầu vào: abfdRacecaRAbAorTITabcdef\n",
      "Palindrome dài nhất: RacecaR\n",
      "\n",
      "Xâu đầu vào: babad\n",
      "Palindrome dài nhất: bab\n",
      "\n",
      "Xâu đầu vào: cbbd\n",
      "Palindrome dài nhất: bb\n"
     ]
    }
   ],
   "source": [
    "def longestPalindrome(s: str) -> str:\n",
    "    # Nếu xâu rỗng hoặc đã là palindrome, trả về luôn\n",
    "    if not s or len(s) < 1:\n",
    "        return \"\"\n",
    "\n",
    "    start = 0  # Vị trí bắt đầu của xâu con dài nhất\n",
    "    maxLength = 0  # Độ dài của xâu con dài nhất\n",
    "\n",
    "    # Hàm trợ giúp để \"nở\" từ tâm\n",
    "    def expandAroundCenter(left: int, right: int):\n",
    "        nonlocal start, maxLength  # Sử dụng biến từ hàm cha\n",
    "\n",
    "        # Nở ra chừng nào còn trong biên và các ký tự còn đối xứng\n",
    "        while left >= 0 and right < len(s) and s[left] == s[right]:\n",
    "            # Kiểm tra xem palindrome hiện tại có dài hơn max đã lưu không\n",
    "            currentLength = right - left + 1\n",
    "            if currentLength > maxLength:\n",
    "                maxLength = currentLength\n",
    "                start = left  # Ghi lại vị trí bắt đầu\n",
    "            \n",
    "            # Di chuyển con trỏ ra hai bên\n",
    "            left -= 1\n",
    "            right += 1\n",
    "\n",
    "    # Lặp qua mọi ký tự để coi nó là tâm\n",
    "    for i in range(len(s)):\n",
    "        # Trường hợp 1: Tâm lẻ (ví dụ: \"aBa\")\n",
    "        expandAroundCenter(i, i)\n",
    "        \n",
    "        # Trường hợp 2: Tâm chẵn (ví dụ: \"aBBa\")\n",
    "        expandAroundCenter(i, i + 1)\n",
    "\n",
    "    # Trả về xâu con dài nhất\n",
    "    return s[start : start + maxLength]\n",
    "\n",
    "# ---- Thử nghiệm ----\n",
    "input_str = \"abfdRacecaRAbAorTITabcdef\"\n",
    "longest = longestPalindrome(input_str)\n",
    "print(f\"Xâu đầu vào: {input_str}\")\n",
    "print(f\"Palindrome dài nhất: {longest}\") # Output: RacecaR\n",
    "\n",
    "input_str_2 = \"babad\"\n",
    "longest_2 = longestPalindrome(input_str_2)\n",
    "print(f\"\\nXâu đầu vào: {input_str_2}\")\n",
    "print(f\"Palindrome dài nhất: {longest_2}\") # Output: bab (hoặc aba)\n",
    "\n",
    "input_str_3 = \"cbbd\"\n",
    "longest_3 = longestPalindrome(input_str_3)\n",
    "print(f\"\\nXâu đầu vào: {input_str_3}\")\n",
    "print(f\"Palindrome dài nhất: {longest_3}\") # Output: bb"
   ]
  }
 ],
 "metadata": {
  "kernelspec": {
   "display_name": "venv",
   "language": "python",
   "name": "python3"
  },
  "language_info": {
   "codemirror_mode": {
    "name": "ipython",
    "version": 3
   },
   "file_extension": ".py",
   "mimetype": "text/x-python",
   "name": "python",
   "nbconvert_exporter": "python",
   "pygments_lexer": "ipython3",
   "version": "3.12.2"
  }
 },
 "nbformat": 4,
 "nbformat_minor": 5
}
